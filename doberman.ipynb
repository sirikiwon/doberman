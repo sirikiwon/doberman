{
 "cells": [
  {
   "cell_type": "code",
   "execution_count": 1,
   "metadata": {},
   "outputs": [],
   "source": [
    "import numpy as np\n",
    "import torch \n",
    "import pandas as pd # for preprocessing\n",
    "import matplotlib.pyplot as plt"
   ]
  },
  {
   "cell_type": "code",
   "execution_count": 2,
   "metadata": {},
   "outputs": [],
   "source": [
    "#dataLoad\n",
    "dataset = pd.read_csv('C:/Users/user/Desktop/commentsDataset.csv', encoding='CP949')"
   ]
  },
  {
   "cell_type": "code",
   "execution_count": 13,
   "metadata": {},
   "outputs": [
    {
     "data": {
      "text/plain": [
       "array(['이종석 한효주 나오는 드라마 이후로 드라마 안봤다. 2년전인가?? 좀 신선했었지. 근데 이런 개막장 드라마는 도대체 누가 보느냐면 변태들이 보는 것이다. 정상적인 사람들은 채널을 돌리게 된다.',\n",
       "       '씨바알..노무노무 술프노... 오늘 저녁은 꽂등심이다ㅠㅜ', '짱깨 꺼라ㅡ패쓰', ..., '냄져들 열폭봐..ㄷㄷ',\n",
       "       '지금 바로 하러 갑니다~^^ 쌩유~!!', '은파도 무뇌아'], dtype='<U841')"
      ]
     },
     "execution_count": 13,
     "metadata": {},
     "output_type": "execute_result"
    }
   ],
   "source": [
    "#dataset preprocessing\n",
    "from sklearn.model_selection import train_test_split\n",
    "import re\n",
    "\n",
    "def clean_text(data):\n",
    "    clean_data = re.sub('[.,?~-]','', data)\n",
    "    return clean_data\n",
    "\n",
    "data = np.array(dataset['comments'].tolist())\n",
    "\n",
    "train, validation = train_test_split(data, test_size=0.2, shuffle=False)\n",
    "train    "
   ]
  },
  {
   "cell_type": "code",
   "execution_count": 14,
   "metadata": {},
   "outputs": [
    {
     "data": {
      "text/plain": [
       "'이종석 한효주 나오는 드라마 이후로 드라마 안봤다 2년전인가 좀 신선했었지 근데 이런 개막장 드라마는 도대체 누가 보느냐면 변태들이 보는 것이다 정상적인 사람들은 채널을 돌리게 된다'"
      ]
     },
     "execution_count": 14,
     "metadata": {},
     "output_type": "execute_result"
    }
   ],
   "source": [
    "for i in range(len(train)-1):\n",
    "    train[i] = clean_text(train[i])\n",
    "    \n",
    "train[0]"
   ]
  },
  {
   "cell_type": "code",
   "execution_count": null,
   "metadata": {},
   "outputs": [],
   "source": []
  },
  {
   "cell_type": "code",
   "execution_count": null,
   "metadata": {},
   "outputs": [],
   "source": []
  }
 ],
 "metadata": {
  "kernelspec": {
   "display_name": "Python 3",
   "language": "python",
   "name": "python3"
  },
  "language_info": {
   "codemirror_mode": {
    "name": "ipython",
    "version": 3
   },
   "file_extension": ".py",
   "mimetype": "text/x-python",
   "name": "python",
   "nbconvert_exporter": "python",
   "pygments_lexer": "ipython3",
   "version": "3.7.0"
  }
 },
 "nbformat": 4,
 "nbformat_minor": 2
}
